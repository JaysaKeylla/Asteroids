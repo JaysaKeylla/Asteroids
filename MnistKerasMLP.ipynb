{
  "nbformat": 4,
  "nbformat_minor": 0,
  "metadata": {
    "colab": {
      "name": "MnistKerasMLP.ipynb",
      "version": "0.3.2",
      "provenance": [],
      "include_colab_link": true
    },
    "kernelspec": {
      "name": "python3",
      "display_name": "Python 3"
    },
    "accelerator": "GPU"
  },
  "cells": [
    {
      "cell_type": "markdown",
      "metadata": {
        "id": "view-in-github",
        "colab_type": "text"
      },
      "source": [
        "<a href=\"https://colab.research.google.com/github/JaysaKeylla/Asteroids/blob/master/MnistKerasMLP.ipynb\" target=\"_parent\"><img src=\"https://colab.research.google.com/assets/colab-badge.svg\" alt=\"Open In Colab\"/></a>"
      ]
    },
    {
      "cell_type": "markdown",
      "metadata": {
        "id": "TyA7zGD3K8eW",
        "colab_type": "text"
      },
      "source": [
        "# Setup\n"
      ]
    },
    {
      "cell_type": "code",
      "metadata": {
        "id": "ciTB3IYfK4rL",
        "colab_type": "code",
        "outputId": "962f3593-8fad-401e-9166-fd87832777f0",
        "colab": {
          "base_uri": "https://localhost:8080/",
          "height": 374
        }
      },
      "source": [
        "!nvidia-smi"
      ],
      "execution_count": 0,
      "outputs": [
        {
          "output_type": "stream",
          "text": [
            "Tue Apr 30 16:57:27 2019       \n",
            "+-----------------------------------------------------------------------------+\n",
            "| NVIDIA-SMI 418.56       Driver Version: 410.79       CUDA Version: 10.0     |\n",
            "|-------------------------------+----------------------+----------------------+\n",
            "| GPU  Name        Persistence-M| Bus-Id        Disp.A | Volatile Uncorr. ECC |\n",
            "| Fan  Temp  Perf  Pwr:Usage/Cap|         Memory-Usage | GPU-Util  Compute M. |\n",
            "|===============================+======================+======================|\n",
            "|   0  Tesla T4            Off  | 00000000:00:04.0 Off |                    0 |\n",
            "| N/A   56C    P8    16W /  70W |      0MiB / 15079MiB |      0%      Default |\n",
            "+-------------------------------+----------------------+----------------------+\n",
            "                                                                               \n",
            "+-----------------------------------------------------------------------------+\n",
            "| Processes:                                                       GPU Memory |\n",
            "|  GPU       PID   Type   Process name                             Usage      |\n",
            "|=============================================================================|\n",
            "|  No running processes found                                                 |\n",
            "+-----------------------------------------------------------------------------+\n",
            "nvcc: NVIDIA (R) Cuda compiler driver\n",
            "Copyright (c) 2005-2018 NVIDIA Corporation\n",
            "Built on Sat_Aug_25_21:08:01_CDT_2018\n",
            "Cuda compilation tools, release 10.0, V10.0.130\n"
          ],
          "name": "stdout"
        }
      ]
    },
    {
      "cell_type": "code",
      "metadata": {
        "id": "fn8cqJ0uLGCM",
        "colab_type": "code",
        "colab": {}
      },
      "source": [
        "import numpy as np\n",
        "import matplotlib.pyplot as plt\n",
        "%matplotlib inline\n",
        "from __future__ import print_function"
      ],
      "execution_count": 0,
      "outputs": []
    },
    {
      "cell_type": "code",
      "metadata": {
        "id": "fuvWw3LW34H7",
        "colab_type": "code",
        "colab": {}
      },
      "source": [
        "from keras.datasets import mnist\n",
        "(train_images, train_labels), (test_images, test_labels) = mnist.load_data()"
      ],
      "execution_count": 0,
      "outputs": []
    },
    {
      "cell_type": "code",
      "metadata": {
        "id": "Yunzc8kD5Pfe",
        "colab_type": "code",
        "colab": {}
      },
      "source": [
        "from keras.utils import to_categorical"
      ],
      "execution_count": 0,
      "outputs": []
    },
    {
      "cell_type": "code",
      "metadata": {
        "id": "NO-EUDxP5TtN",
        "colab_type": "code",
        "outputId": "ffbf66eb-1816-46f6-db66-40a06826a894",
        "colab": {
          "base_uri": "https://localhost:8080/",
          "height": 403
        }
      },
      "source": [
        "print('Training data shape : ', train_images.shape, train_labels.shape)\n",
        "\n",
        "print('Testing data shape : ', test_images.shape, test_labels.shape)\n",
        "\n",
        "# Find the unique numbers from the train labels\n",
        "classes = np.unique(train_labels)\n",
        "nClasses = len(classes)\n",
        "print('Total number of outputs : ', nClasses)\n",
        "print('Output classes : ', classes)\n",
        "\n",
        "plt.figure(figsize=[10,5])\n",
        "\n",
        "# Display the first image in training data\n",
        "plt.subplot(121)\n",
        "plt.imshow(train_images[0,:,:], cmap='gray')\n",
        "plt.title(\"Ground Truth : {}\".format(train_labels[0]))\n",
        "\n",
        "# Display the first image in testing data\n",
        "plt.subplot(122)\n",
        "plt.imshow(test_images[0,:,:], cmap='gray')\n",
        "plt.title(\"Ground Truth : {}\".format(test_labels[0]))"
      ],
      "execution_count": 0,
      "outputs": [
        {
          "output_type": "stream",
          "text": [
            "Training data shape :  (60000, 28, 28) (60000,)\n",
            "Testing data shape :  (10000, 28, 28) (10000,)\n",
            "Total number of outputs :  10\n",
            "Output classes :  [0 1 2 3 4 5 6 7 8 9]\n"
          ],
          "name": "stdout"
        },
        {
          "output_type": "execute_result",
          "data": {
            "text/plain": [
              "Text(0.5, 1.0, 'Ground Truth : 7')"
            ]
          },
          "metadata": {
            "tags": []
          },
          "execution_count": 10
        },
        {
          "output_type": "display_data",
          "data": {
            "image/png": "[encoded data removed]",
            "text/plain": [
              "<Figure size 720x360 with 2 Axes>"
            ]
          },
          "metadata": {
            "tags": []
          }
        }
      ]
    },
    {
      "cell_type": "code",
      "metadata": {
        "id": "C0U7j4Uy5Zh8",
        "colab_type": "code",
        "colab": {}
      },
      "source": [
        "# Change from matrix to array of dimension 28x28 to array of dimention 784\n",
        "dimData = np.prod(train_images.shape[1:])\n",
        "train_data = train_images.reshape(train_images.shape[0], dimData)\n",
        "test_data = test_images.reshape(test_images.shape[0], dimData)"
      ],
      "execution_count": 0,
      "outputs": []
    },
    {
      "cell_type": "code",
      "metadata": {
        "id": "8uslkHvI5glC",
        "colab_type": "code",
        "colab": {}
      },
      "source": [
        "# Change to float datatype\n",
        "train_data = train_data.astype('float32')\n",
        "test_data = test_data.astype('float32')"
      ],
      "execution_count": 0,
      "outputs": []
    },
    {
      "cell_type": "code",
      "metadata": {
        "id": "M9lXZ55h5jvo",
        "colab_type": "code",
        "colab": {}
      },
      "source": [
        "# Scale the data to lie between 0 to 1\n",
        "train_data /= 255\n",
        "test_data /= 255"
      ],
      "execution_count": 0,
      "outputs": []
    },
    {
      "cell_type": "code",
      "metadata": {
        "id": "1DBdZ_ku5t04",
        "colab_type": "code",
        "colab": {}
      },
      "source": [
        "# Change the labels from integer to categorical data\n",
        "train_labels_one_hot = to_categorical(train_labels)\n",
        "test_labels_one_hot = to_categorical(test_labels)"
      ],
      "execution_count": 0,
      "outputs": []
    },
    {
      "cell_type": "code",
      "metadata": {
        "id": "XkUayyRh5xE5",
        "colab_type": "code",
        "outputId": "54e4e401-3a05-4ac5-f575-2ec3f28ebe57",
        "colab": {
          "base_uri": "https://localhost:8080/",
          "height": 51
        }
      },
      "source": [
        "# Display the change for category label using one-hot encoding\n",
        "print('Original label 0 : ', train_labels[0])\n",
        "print('After conversion to categorical ( one-hot ) : ', train_labels_one_hot[0])"
      ],
      "execution_count": 0,
      "outputs": [
        {
          "output_type": "stream",
          "text": [
            "Original label 0 :  5\n",
            "After conversion to categorical ( one-hot ) :  [0. 0. 0. 0. 0. 1. 0. 0. 0. 0.]\n"
          ],
          "name": "stdout"
        }
      ]
    },
    {
      "cell_type": "code",
      "metadata": {
        "id": "f40W8ySW7HxI",
        "colab_type": "code",
        "colab": {}
      },
      "source": [
        "from keras.models import Sequential\n",
        "from keras.layers import Dense"
      ],
      "execution_count": 0,
      "outputs": []
    },
    {
      "cell_type": "code",
      "metadata": {
        "id": "uwD0hWoo7NsI",
        "colab_type": "code",
        "colab": {}
      },
      "source": [
        "model = Sequential()\n",
        "model.add(Dense(512, activation='relu', input_shape=(dimData,)))\n",
        "model.add(Dense(512, activation='relu'))\n",
        "model.add(Dense(256, activation='relu'))\n",
        "model.add(Dense(128, activation='relu'))\n",
        "model.add(Dense(nClasses, activation='softmax'))"
      ],
      "execution_count": 0,
      "outputs": []
    },
    {
      "cell_type": "code",
      "metadata": {
        "id": "rRolD8eH7QXh",
        "colab_type": "code",
        "colab": {}
      },
      "source": [
        "model.compile(optimizer='rmsprop', loss='categorical_crossentropy', metrics=['accuracy'])"
      ],
      "execution_count": 0,
      "outputs": []
    },
    {
      "cell_type": "code",
      "metadata": {
        "id": "MsvkQX1s7UMP",
        "colab_type": "code",
        "outputId": "06abdc94-df9f-4c9a-804f-11ea0b11c9f5",
        "colab": {
          "base_uri": "https://localhost:8080/",
          "height": 714
        }
      },
      "source": [
        "history = model.fit(train_data, train_labels_one_hot, batch_size=256, epochs=20, verbose=1, \n",
        "                   validation_data=(test_data, test_labels_one_hot))"
      ],
      "execution_count": 0,
      "outputs": [
        {
          "output_type": "stream",
          "text": [
            "Train on 60000 samples, validate on 10000 samples\n",
            "Epoch 1/20\n",
            "60000/60000 [==============================] - 1s 22us/step - loss: 0.3155 - acc: 0.9003 - val_loss: 0.1916 - val_acc: 0.9389\n",
            "Epoch 2/20\n",
            "60000/60000 [==============================] - 1s 16us/step - loss: 0.1050 - acc: 0.9676 - val_loss: 0.1081 - val_acc: 0.9652\n",
            "Epoch 3/20\n",
            "60000/60000 [==============================] - 1s 17us/step - loss: 0.0676 - acc: 0.9795 - val_loss: 0.1053 - val_acc: 0.9694\n",
            "Epoch 4/20\n",
            "60000/60000 [==============================] - 1s 16us/step - loss: 0.0479 - acc: 0.9846 - val_loss: 0.1421 - val_acc: 0.9672\n",
            "Epoch 5/20\n",
            "60000/60000 [==============================] - 1s 16us/step - loss: 0.0373 - acc: 0.9888 - val_loss: 0.0856 - val_acc: 0.9771\n",
            "Epoch 6/20\n",
            "60000/60000 [==============================] - 1s 16us/step - loss: 0.0278 - acc: 0.9911 - val_loss: 0.1191 - val_acc: 0.9720\n",
            "Epoch 7/20\n",
            "60000/60000 [==============================] - 1s 16us/step - loss: 0.0257 - acc: 0.9921 - val_loss: 0.0790 - val_acc: 0.9815\n",
            "Epoch 8/20\n",
            "60000/60000 [==============================] - 1s 17us/step - loss: 0.0208 - acc: 0.9939 - val_loss: 0.0774 - val_acc: 0.9843\n",
            "Epoch 9/20\n",
            "60000/60000 [==============================] - 1s 16us/step - loss: 0.0168 - acc: 0.9949 - val_loss: 0.0855 - val_acc: 0.9831\n",
            "Epoch 10/20\n",
            "60000/60000 [==============================] - 1s 16us/step - loss: 0.0173 - acc: 0.9953 - val_loss: 0.1004 - val_acc: 0.9784\n",
            "Epoch 11/20\n",
            "60000/60000 [==============================] - 1s 16us/step - loss: 0.0146 - acc: 0.9954 - val_loss: 0.1117 - val_acc: 0.9806\n",
            "Epoch 12/20\n",
            "60000/60000 [==============================] - 1s 16us/step - loss: 0.0118 - acc: 0.9965 - val_loss: 0.1205 - val_acc: 0.9797\n",
            "Epoch 13/20\n",
            "60000/60000 [==============================] - 1s 17us/step - loss: 0.0134 - acc: 0.9962 - val_loss: 0.1012 - val_acc: 0.9833\n",
            "Epoch 14/20\n",
            "60000/60000 [==============================] - 1s 17us/step - loss: 0.0128 - acc: 0.9966 - val_loss: 0.1211 - val_acc: 0.9813\n",
            "Epoch 15/20\n",
            "60000/60000 [==============================] - 1s 16us/step - loss: 0.0124 - acc: 0.9970 - val_loss: 0.1240 - val_acc: 0.9800\n",
            "Epoch 16/20\n",
            "60000/60000 [==============================] - 1s 16us/step - loss: 0.0105 - acc: 0.9974 - val_loss: 0.1543 - val_acc: 0.9761\n",
            "Epoch 17/20\n",
            "60000/60000 [==============================] - 1s 16us/step - loss: 0.0119 - acc: 0.9974 - val_loss: 0.1318 - val_acc: 0.9805\n",
            "Epoch 18/20\n",
            "60000/60000 [==============================] - 1s 17us/step - loss: 0.0103 - acc: 0.9976 - val_loss: 0.1368 - val_acc: 0.9787\n",
            "Epoch 19/20\n",
            "60000/60000 [==============================] - 1s 17us/step - loss: 0.0093 - acc: 0.9978 - val_loss: 0.1308 - val_acc: 0.9814\n",
            "Epoch 20/20\n",
            "60000/60000 [==============================] - 1s 16us/step - loss: 0.0095 - acc: 0.9976 - val_loss: 0.1189 - val_acc: 0.9830\n"
          ],
          "name": "stdout"
        }
      ]
    },
    {
      "cell_type": "code",
      "metadata": {
        "id": "deoUVrS27in4",
        "colab_type": "code",
        "outputId": "443c4cd5-96ff-4428-87c6-149495439ba5",
        "colab": {
          "base_uri": "https://localhost:8080/",
          "height": 428
        }
      },
      "source": [
        "plt.figure(figsize=[8,6])\n",
        "plt.plot(history.history['loss'],'r',linewidth=3.0)\n",
        "plt.plot(history.history['val_loss'],'b',linewidth=3.0)\n",
        "plt.legend(['Training loss', 'Validation Loss'],fontsize=18)\n",
        "plt.xlabel('Epochs ',fontsize=16)\n",
        "plt.ylabel('Loss',fontsize=16)\n",
        "plt.title('Loss Curves',fontsize=16)"
      ],
      "execution_count": 0,
      "outputs": [
        {
          "output_type": "execute_result",
          "data": {
            "text/plain": [
              "Text(0.5, 1.0, 'Loss Curves')"
            ]
          },
          "metadata": {
            "tags": []
          },
          "execution_count": 34
        },
        {
          "output_type": "display_data",
          "data": {
            "image/png": "[encoded data removed]",
            "text/plain": [
              "<Figure size 576x432 with 1 Axes>"
            ]
          },
          "metadata": {
            "tags": []
          }
        }
      ]
    },
    {
      "cell_type": "code",
      "metadata": {
        "id": "CJd-8Dpl7n_g",
        "colab_type": "code",
        "outputId": "2caa144f-10a8-475d-fbd6-235a4064b2d9",
        "colab": {
          "base_uri": "https://localhost:8080/",
          "height": 428
        }
      },
      "source": [
        "\n",
        "plt.figure(figsize=[8,6])\n",
        "plt.plot(history.history['acc'],'r',linewidth=3.0)\n",
        "plt.plot(history.history['val_acc'],'b',linewidth=3.0)\n",
        "plt.legend(['Training Accuracy', 'Validation Accuracy'],fontsize=18)\n",
        "plt.xlabel('Epochs ',fontsize=16)\n",
        "plt.ylabel('Accuracy',fontsize=16)\n",
        "plt.title('Accuracy Curves',fontsize=16)"
      ],
      "execution_count": 0,
      "outputs": [
        {
          "output_type": "execute_result",
          "data": {
            "text/plain": [
              "Text(0.5, 1.0, 'Accuracy Curves')"
            ]
          },
          "metadata": {
            "tags": []
          },
          "execution_count": 35
        },
        {
          "output_type": "display_data",
          "data": {
            "image/png": "[encoded data removed]",
            "text/plain": [
              "<Figure size 576x432 with 1 Axes>"
            ]
          },
          "metadata": {
            "tags": []
          }
        }
      ]
    },
    {
      "cell_type": "code",
      "metadata": {
        "id": "oFmcz2Ef7soj",
        "colab_type": "code",
        "outputId": "80643617-45eb-4b16-e691-71616a7d4219",
        "colab": {
          "base_uri": "https://localhost:8080/",
          "height": 34
        }
      },
      "source": [
        "[test_loss, test_acc] = model.evaluate(test_data, test_labels_one_hot)"
      ],
      "execution_count": 0,
      "outputs": [
        {
          "output_type": "stream",
          "text": [
            "10000/10000 [==============================] - 0s 38us/step\n"
          ],
          "name": "stdout"
        }
      ]
    },
    {
      "cell_type": "code",
      "metadata": {
        "id": "5jo2v6eZ7vAL",
        "colab_type": "code",
        "outputId": "14cb3a4c-f4e9-4824-bc22-4df18c246e72",
        "colab": {
          "base_uri": "https://localhost:8080/",
          "height": 34
        }
      },
      "source": [
        "print(\"Evaluation result on Test Data : Loss = {}, accuracy = {}\".format(test_loss, test_acc))"
      ],
      "execution_count": 0,
      "outputs": [
        {
          "output_type": "stream",
          "text": [
            "Evaluation result on Test Data : Loss = 0.1189347917727673, accuracy = 0.983\n"
          ],
          "name": "stdout"
        }
      ]
    }
  ]
}